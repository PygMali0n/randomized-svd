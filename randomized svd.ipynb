{
 "cells": [
  {
   "cell_type": "code",
   "execution_count": 2,
   "metadata": {},
   "outputs": [],
   "source": [
    "import numpy as np\n",
    "# ALGORITHM: RSVD — BASIC RANDOMIZED SVD\n",
    "def randomized_svd(A, k, p):\n",
    "    \"\"\"\n",
    "    A = QQ'A = QB = QUhatDV' = UDV'\n",
    "    parameters:\n",
    "        A - m*n matrix\n",
    "        k - target rank\n",
    "        p - over-sampling parameter\n",
    "        \n",
    "    Outputs:\n",
    "        matrices U,D,V in an approximate rank-(k+p) svd of A\n",
    "    \"\"\"\n",
    "    m, n = A.shape\n",
    "    # form an n*(k + p) Gaussian random matrix G\n",
    "    G = np.random.rand(n, k+p)\n",
    "    # form the sample matrix Y = AG.\n",
    "    Y = A@G\n",
    "    # orthonormalize the columns of the sample matrix Q = orth(Y)\n",
    "    Q = np.linalg.qr(Y, mode = 'reduced')[0]\n",
    "    # form the (k + p) * n matrix B = Q'*A\n",
    "    B = Q.T@A\n",
    "    # form the svd of the small matrix B\n",
    "    Uhat, D, V = np.linalg.svd(B, full_matrices=False)\n",
    "    # drop the last p components\n",
    "    Uhat = Uhat[:,:k]; D = D[:k]; V = V[:,:k];\n",
    "    # form U = Q * Uhat\n",
    "    U = Q@Uhat\n",
    "    D = np.diag(D)\n",
    "    return U, D, V"
   ]
  }
 ],
 "metadata": {
  "kernelspec": {
   "display_name": "Python 3",
   "language": "python",
   "name": "python3"
  },
  "language_info": {
   "codemirror_mode": {
    "name": "ipython",
    "version": 3
   },
   "file_extension": ".py",
   "mimetype": "text/x-python",
   "name": "python",
   "nbconvert_exporter": "python",
   "pygments_lexer": "ipython3",
   "version": "3.7.3"
  }
 },
 "nbformat": 4,
 "nbformat_minor": 2
}
